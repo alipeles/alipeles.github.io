{
 "cells": [
  {
   "cell_type": "code",
   "execution_count": 1,
   "metadata": {},
   "outputs": [],
   "source": [
    "import numpy as np"
   ]
  },
  {
   "cell_type": "markdown",
   "metadata": {},
   "source": [
    "### Setup Sudoku Board"
   ]
  },
  {
   "cell_type": "code",
   "execution_count": 2,
   "metadata": {},
   "outputs": [],
   "source": [
    "board = np.empty((9, 9))\n",
    "board[:,:] = np.nan\n",
    "\n",
    "board = np.array(\n",
    "[\n",
    "    [1, 5, 4,   0, 0, 6,   2, 7, 0],\n",
    "    [0, 0, 8,   1, 7, 0,   0, 4, 5],\n",
    "    [0, 0, 6,   4, 9, 0,   0, 1, 0],\n",
    "\n",
    "    [0, 0, 9,   6, 8, 3,   0, 0, 0],\n",
    "    [3, 2, 1,   0, 0, 0,   8, 6, 0],\n",
    "    [6, 0, 0,   0, 0, 1,   9, 3, 0],\n",
    "\n",
    "    [5, 0, 0,   9, 0, 0,   0, 0, 3],\n",
    "    [0, 9, 7,   0, 0, 0,   1, 0, 2],\n",
    "    [8, 0, 0,   0, 5, 4,   0, 0, 0],\n",
    "])"
   ]
  },
  {
   "cell_type": "markdown",
   "metadata": {},
   "source": [
    "### Utility functions"
   ]
  },
  {
   "cell_type": "code",
   "execution_count": 3,
   "metadata": {},
   "outputs": [],
   "source": [
    "def possible_values(board, row, col):\n",
    "    \"\"\" find all possible value for (row, col), given the current state of the whole board \"\"\"\n",
    "    \n",
    "    # assume all numbers 1-9 are possible\n",
    "    vals = range(1, 10)\n",
    "    \n",
    "    # exclude row vals\n",
    "    vals = np.setdiff1d(vals, board[row, :])\n",
    "    \n",
    "    # exclude columnn vals\n",
    "    vals = np.setdiff1d(vals, board[:, col])\n",
    "\n",
    "    # exclude box vals\n",
    "    box_row = 3 * (row // 3)\n",
    "    box_col = 3 * (col // 3)\n",
    "    vals = np.setdiff1d(vals, board[box_row:box_row + 3, box_col:box_col + 3])\n",
    "\n",
    "    return vals\n",
    "\n",
    "def next_open_square(board):\n",
    "    \"\"\" find the next unfilled square on the board \"\"\"\n",
    "    \n",
    "    # if no open squares\n",
    "    if np.min(board) != 0:\n",
    "        return None\n",
    "    \n",
    "    # find cell of first zero\n",
    "    next_open = np.argmin(board)\n",
    "\n",
    "    # need to compute row and column, because argmin flattens the array into 1 dimension\n",
    "    return (next_open // 9, next_open % 9)\n"
   ]
  },
  {
   "cell_type": "markdown",
   "metadata": {},
   "source": [
    "### Solver"
   ]
  },
  {
   "cell_type": "code",
   "execution_count": 4,
   "metadata": {},
   "outputs": [],
   "source": [
    "def solve(board):\n",
    "    \n",
    "    # find an open square to try to fill\n",
    "    next_open = next_open_square(board)\n",
    "    \n",
    "    # if all squares are filled\n",
    "    if next_open == None:\n",
    "        # puzzle is completed\n",
    "        return True, board\n",
    "    else:\n",
    "        row, col = next_open\n",
    "    \n",
    "    pv = possible_values(board, row, col)\n",
    "    \n",
    "    # if no values are possible, then we've failed to find a solution\n",
    "    if pv.shape[0] == 0:\n",
    "        return False, None\n",
    "\n",
    "    # if only one value is possible, \n",
    "    elif pv.shape[0] == 1:\n",
    "        \n",
    "        # use it\n",
    "        board[row, col] = pv[0]\n",
    "        \n",
    "        # try to solve the rest of the board\n",
    "        return solve(board.copy())\n",
    "    \n",
    "    # if multiple values are possible\n",
    "    else:\n",
    "\n",
    "        # for each possible value\n",
    "        for val in possible_values(board, row, col):\n",
    "            \n",
    "            # apply candidate value\n",
    "            board[row, col] = val\n",
    "\n",
    "            # try to solve the rest of the board\n",
    "            outcome, solved_board = solve(board.copy())\n",
    "            \n",
    "            # if a solution was found\n",
    "            if outcome == True:\n",
    "                return outcome, solved_board\n",
    "            \n",
    "        # if here, no solution was found\n",
    "        return False, None"
   ]
  },
  {
   "cell_type": "code",
   "execution_count": 5,
   "metadata": {},
   "outputs": [],
   "source": [
    "outcome, solution = solve(board)"
   ]
  },
  {
   "cell_type": "code",
   "execution_count": 6,
   "metadata": {},
   "outputs": [
    {
     "data": {
      "text/plain": [
       "array([[1, 5, 4, 8, 3, 6, 2, 7, 9],\n",
       "       [9, 3, 8, 1, 7, 2, 6, 4, 5],\n",
       "       [2, 7, 6, 4, 9, 5, 3, 1, 8],\n",
       "       [7, 4, 9, 6, 8, 3, 5, 2, 1],\n",
       "       [3, 2, 1, 5, 4, 9, 8, 6, 7],\n",
       "       [6, 8, 5, 7, 2, 1, 9, 3, 4],\n",
       "       [5, 6, 2, 9, 1, 7, 4, 8, 3],\n",
       "       [4, 9, 7, 3, 6, 8, 1, 5, 2],\n",
       "       [8, 1, 3, 2, 5, 4, 7, 9, 6]])"
      ]
     },
     "execution_count": 6,
     "metadata": {},
     "output_type": "execute_result"
    }
   ],
   "source": [
    "solution"
   ]
  },
  {
   "cell_type": "markdown",
   "metadata": {},
   "source": [
    "### Make sure "
   ]
  },
  {
   "cell_type": "code",
   "execution_count": 7,
   "metadata": {},
   "outputs": [
    {
     "data": {
      "text/plain": [
       "True"
      ]
     },
     "execution_count": 7,
     "metadata": {},
     "output_type": "execute_result"
    }
   ],
   "source": [
    "def check_sudoku_solution(board):\n",
    "    \n",
    "    valid = True\n",
    "    \n",
    "    for i in range(9):\n",
    "        valid &= np.equal(sorted(board[i, :]), range(1, 10)).all()\n",
    "        valid &= np.equal(sorted(board[:, i]), range(1, 10)).all()\n",
    "        \n",
    "        box_x = 3 * (i // 3)\n",
    "        box_y = 3 * (i % 3)\n",
    "        valid &= np.equal(sorted(board[box_x:box_x+3, box_y:box_y+3].reshape(-1)), range(1, 10)).all()\n",
    "        \n",
    "    return valid\n",
    "\n",
    "check_sudoku_solution(solution)"
   ]
  },
  {
   "cell_type": "code",
   "execution_count": null,
   "metadata": {},
   "outputs": [],
   "source": []
  }
 ],
 "metadata": {
  "kernelspec": {
   "display_name": "Python 3",
   "language": "python",
   "name": "python3"
  },
  "language_info": {
   "codemirror_mode": {
    "name": "ipython",
    "version": 3
   },
   "file_extension": ".py",
   "mimetype": "text/x-python",
   "name": "python",
   "nbconvert_exporter": "python",
   "pygments_lexer": "ipython3",
   "version": "3.7.1"
  }
 },
 "nbformat": 4,
 "nbformat_minor": 2
}
